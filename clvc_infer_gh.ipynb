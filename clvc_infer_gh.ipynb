{
  "cells": [
    {
      "cell_type": "markdown",
      "metadata": {
        "colab_type": "text",
        "id": "view-in-github"
      },
      "source": [
        "<a href=\"https://colab.research.google.com/github/Jeevesh8/Cross-Lingual-Voice-Cloning/blob/master/clvc_infer_gh.ipynb\" target=\"_parent\"><img src=\"https://colab.research.google.com/assets/colab-badge.svg\" alt=\"Open In Colab\"/></a>"
      ]
    },
    {
      "cell_type": "code",
      "execution_count": null,
      "metadata": {
        "colab": {},
        "colab_type": "code",
        "id": "9Y5fGi1KZQul"
      },
      "outputs": [],
      "source": [
        "##from google.colab import drive\n",
        "##drive.mount('/content/drive')"
      ]
    },
    {
      "cell_type": "code",
      "execution_count": null,
      "metadata": {
        "colab": {},
        "colab_type": "code",
        "id": "vzq7y7s1Q-hU"
      },
      "outputs": [],
      "source": [
        "!pip install Unidecode\n",
        "!pip install tensorflow==1.15.2"
      ]
    },
    {
      "cell_type": "code",
      "execution_count": null,
      "metadata": {
        "colab": {},
        "colab_type": "code",
        "id": "FiliZNEzRTAi"
      },
      "outputs": [],
      "source": [
        "##%cd '/content/drive/My Drive'"
      ]
    },
    {
      "cell_type": "code",
      "execution_count": null,
      "metadata": {
        "colab": {},
        "colab_type": "code",
        "id": "7fY3gb4Ed0kK"
      },
      "outputs": [],
      "source": [
        "##!git clone https://github.com/Jeevesh8/Cross-Lingual-Voice-Cloning Cross-Lingual-Voice-Cloning-gpu"
      ]
    },
    {
      "cell_type": "code",
      "execution_count": null,
      "metadata": {
        "colab": {
          "base_uri": "https://localhost:8080/",
          "height": 34
        },
        "colab_type": "code",
        "id": "nZ5zbhNXd-KR",
        "outputId": "0c516b7a-e05e-4c0a-8223-b859cdb95c1d"
      },
      "outputs": [
        {
          "name": "stdout",
          "output_type": "stream",
          "text": [
            "/content/drive/My Drive/projects/dragoman/Cross-Lingual-Voice-Cloning-gpu-1\n"
          ]
        }
      ],
      "source": [
        "##%cd Cross-Lingual-Voice-Cloning-gpu"
      ]
    },
    {
      "cell_type": "code",
      "execution_count": null,
      "metadata": {
        "colab": {},
        "colab_type": "code",
        "id": "6jHWcoaLeWlX"
      },
      "outputs": [],
      "source": [
        "!git submodule init\n",
        "!git submodule update"
      ]
    },
    {
      "cell_type": "code",
      "execution_count": null,
      "metadata": {
        "colab": {},
        "colab_type": "code",
        "id": "eU5WBlXkRIXV"
      },
      "outputs": [],
      "source": [
        "import matplotlib\n",
        "%matplotlib inline\n",
        "import matplotlib.pylab as plt\n",
        "\n",
        "import sys\n",
        "sys.path.append('waveglow/')\n",
        "import numpy as np\n",
        "import torch\n",
        "\n",
        "from hparams import create_hparams\n",
        "from layers import TacotronSTFT, STFT\n",
        "from audio_processing import griffin_lim\n",
        "from train import load_model\n",
        "from text import text_to_sequence"
      ]
    },
    {
      "cell_type": "code",
      "execution_count": null,
      "metadata": {
        "colab": {},
        "colab_type": "code",
        "id": "UbI--QXa5G2t"
      },
      "outputs": [],
      "source": [
        "from model import Tacotron2"
      ]
    },
    {
      "cell_type": "code",
      "execution_count": null,
      "metadata": {
        "colab": {},
        "colab_type": "code",
        "id": "aFCAEQWeZ_g1"
      },
      "outputs": [],
      "source": [
        "base_dir = '/content/Drive/My Drive'"
      ]
    },
    {
      "cell_type": "code",
      "execution_count": null,
      "metadata": {
        "colab": {},
        "colab_type": "code",
        "id": "wKesiY2zElgN"
      },
      "outputs": [],
      "source": [
        "%cd ./waveglow\n",
        "waveglow_path = base_dir+'<waveglow-weights-path>'                              # To get universal vocoder waveglow weights--> https://drive.google.com/open?id=1okuUstGoBe_qZ4qUEF8CcwEugHP7GM_b\n",
        "new_model_path = base_dir+'<waveglow-new-weights-path>'\n",
        "!python convert_model.py '<waveglow-wts-old-path>'  '<waveglow-wts-new-path>'\n",
        "%cd .."
      ]
    },
    {
      "cell_type": "code",
      "execution_count": null,
      "metadata": {
        "colab": {},
        "colab_type": "code",
        "id": "GPANKGSSYdkr"
      },
      "outputs": [],
      "source": [
        "waveglow = torch.load(new_model_path)['model']\n",
        "waveglow.cuda().eval() #.half()\n",
        "for k in waveglow.convinv:\n",
        "    k.float()\n",
        "#denoiser = Denoiser(waveglow)"
      ]
    },
    {
      "cell_type": "code",
      "execution_count": null,
      "metadata": {
        "colab": {},
        "colab_type": "code",
        "id": "AtBPhPipRgAU"
      },
      "outputs": [],
      "source": [
        "hparams = create_hparams()\n",
        "hparams.sampling_rate = 22050\n",
        "hparams.max_decoder_steps = 1000\n",
        "hparams.n_speakers = 2\n",
        "hparams.dim_yo = 2\n",
        "hparams.lang_embedding_dim = 4\n",
        "#set other hparams you want to change"
      ]
    },
    {
      "cell_type": "code",
      "execution_count": null,
      "metadata": {
        "colab": {},
        "colab_type": "code",
        "id": "dVm7KT9Sc01t"
      },
      "outputs": [],
      "source": [
        "print(hparams.dim_yo)"
      ]
    },
    {
      "cell_type": "code",
      "execution_count": null,
      "metadata": {
        "colab": {},
        "colab_type": "code",
        "id": "co5wkZgwRgnB"
      },
      "outputs": [],
      "source": [
        "checkpoint_path = '<path-to-checkout-of model>'\n",
        "model = load_model(hparams)\n",
        "model.load_state_dict(torch.load(checkpoint_path)['state_dict'])\n",
        "_ = model.cuda().eval() #.half()"
      ]
    },
    {
      "cell_type": "code",
      "execution_count": null,
      "metadata": {
        "colab": {},
        "colab_type": "code",
        "id": "jJLvwGLgSI5K"
      },
      "outputs": [],
      "source": [
        "text = \"Could there be a talking plot\"\n",
        "sequence = np.array(text_to_sequence(text, ['basic_cleaners']))[None, :]\n",
        "sequence = torch.autograd.Variable(\n",
        "    torch.from_numpy(sequence)).cuda().long()"
      ]
    },
    {
      "cell_type": "code",
      "execution_count": null,
      "metadata": {
        "colab": {},
        "colab_type": "code",
        "id": "nMO9Mb2FThDu"
      },
      "outputs": [],
      "source": [
        "print(sequence.shape)"
      ]
    },
    {
      "cell_type": "code",
      "execution_count": null,
      "metadata": {
        "colab": {},
        "colab_type": "code",
        "id": "c6C3ZpEQSKP4"
      },
      "outputs": [],
      "source": [
        "speaker = torch.tensor([13], device='cuda:0')\n",
        "lang = torch.tensor([0], device='cuda:0')\n",
        "mel_outputs, mel_outputs_postnet, _, alignments = model.inference(sequence, speaker, lang)\n",
        "print(mel_outputs.shape)"
      ]
    },
    {
      "cell_type": "code",
      "execution_count": null,
      "metadata": {
        "colab": {},
        "colab_type": "code",
        "id": "irwl6YvaDsGD"
      },
      "outputs": [],
      "source": [
        "import IPython.display as ipd\n",
        "with torch.no_grad():\n",
        "    audio = waveglow.infer(mel_outputs, sigma=0.1)                                    #PUT MEL IN MEL_OUTPUTS_POSTNET\n",
        "print(audio.shape)\n",
        "ipd.Audio(audio[0].data.cpu().numpy(), rate=22050)"
      ]
    }
  ],
  "metadata": {
    "accelerator": "GPU",
    "colab": {
      "collapsed_sections": [],
      "include_colab_link": true,
      "name": "clvc-infer-gh.ipynb",
      "provenance": []
    },
    "kernelspec": {
      "display_name": "Python 3",
      "name": "python3"
    }
  },
  "nbformat": 4,
  "nbformat_minor": 0
}
